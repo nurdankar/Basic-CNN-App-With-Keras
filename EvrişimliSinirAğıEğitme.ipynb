{
  "nbformat": 4,
  "nbformat_minor": 0,
  "metadata": {
    "colab": {
      "name": "EvrişimliSinirAğıEğitme.ipynb",
      "provenance": [],
      "collapsed_sections": [],
      "toc_visible": true,
      "authorship_tag": "ABX9TyMY4YA5lJhMG4ylhlhYs7ze",
      "include_colab_link": true
    },
    "kernelspec": {
      "name": "python3",
      "display_name": "Python 3"
    },
    "accelerator": "GPU"
  },
  "cells": [
    {
      "cell_type": "markdown",
      "metadata": {
        "id": "view-in-github",
        "colab_type": "text"
      },
      "source": [
        "<a href=\"https://colab.research.google.com/github/nurdankar/Basic-TensorFlow-App/blob/master/Evri%C5%9FimliSinirA%C4%9F%C4%B1E%C4%9Fitme.ipynb\" target=\"_parent\"><img src=\"https://colab.research.google.com/assets/colab-badge.svg\" alt=\"Open In Colab\"/></a>"
      ]
    },
    {
      "cell_type": "markdown",
      "metadata": {
        "id": "0Pvymb9xOBun",
        "colab_type": "text"
      },
      "source": [
        "# Sırasıyla Bir Evrişimli Sinir Ağı İçin Gereken Katmanlar\n",
        "\n",
        "  1- Evrişim Katmanı (Aktivasyon Fonksiyonu(Activation Function), Yanlılık(Bias), Adım Kaydırma(Stride), Piksel Ekleme (Padding))\n",
        "\n",
        "  2- Ortaklama Katmanı (Maksimum Ortaklama ya da Ortalama Ortaklama/Max Pooling or Average Pooling)\n",
        "\n",
        "  3- Tam/ Tüm Bağlantı Katmanı(Fully Connected(FC))"
      ]
    },
    {
      "cell_type": "code",
      "metadata": {
        "id": "4GN0q5fOpOYu",
        "colab_type": "code",
        "colab": {}
      },
      "source": [
        "\" Kimlik Doğrulama \"\n",
        "\n",
        "from google.colab import drive\n",
        "drive.mount('/gdrive')\n",
        "%cd /gdrive"
      ],
      "execution_count": null,
      "outputs": []
    },
    {
      "cell_type": "code",
      "metadata": {
        "id": "HYoKoGWspUHf",
        "colab_type": "code",
        "colab": {}
      },
      "source": [
        "!ls                              "
      ],
      "execution_count": null,
      "outputs": []
    },
    {
      "cell_type": "markdown",
      "metadata": {
        "id": "09o_tu3z03_6",
        "colab_type": "text"
      },
      "source": [
        "# Evrişimli Sinir Ağı Eğitme (Convolutional Neural Network Training)\n",
        "\n",
        "Birinci katmanında evrişim işlemi ikinci katmanında ortaklama işlemi olacak şekilde bir sinir ağı inşa edelim."
      ]
    },
    {
      "cell_type": "code",
      "metadata": {
        "id": "wXyomjz8z4iC",
        "colab_type": "code",
        "colab": {}
      },
      "source": [
        "\" Gerekli kütüphanelerin İmport Edilmesi \"\n",
        "\n",
        "import numpy as np\n",
        "import h5py\n",
        "import matplotlib.pyplot as plt\n",
        "\n",
        "plt.rcParams['figure.figsize'] = (5.0, 4.0)\n",
        "plt.rcParams['image.interpolation'] = 'nearest'\n",
        "plt.rcParams['image.cmap'] = 'gray'\n",
        "\n",
        "np.random.seed(1)"
      ],
      "execution_count": 1,
      "outputs": []
    },
    {
      "cell_type": "code",
      "metadata": {
        "id": "oiVWGz_66PIP",
        "colab_type": "code",
        "colab": {}
      },
      "source": [
        "\" 0 İle Pixel Doldurma İşlemi \"\n",
        "\n",
        "def zero_pad(X, pad):\n",
        "  X_pad = np.pad(X, ((0,0), (pad,pad), (pad,pad), (0,0)), 'constant', constant_values = 0)\n",
        "  return X_pad"
      ],
      "execution_count": 2,
      "outputs": []
    },
    {
      "cell_type": "code",
      "metadata": {
        "id": "-XgG4-rG7Y8_",
        "colab_type": "code",
        "colab": {
          "base_uri": "https://localhost:8080/",
          "height": 446
        },
        "outputId": "14479071-453d-4128-cbd8-0ec17a291506"
      },
      "source": [
        "\" Bir Yukarıda Yapılan İşlemin İçeriğinin Tanımlanması \"\n",
        "\n",
        "np.random.seed(1)                                       # random.seed komutuyla yukarıdaki değerleri tutmaya çalıştık\n",
        "x = np.random.randn(4,3,3,2)                            # (4,3,3,2)'lik bir x oluşturduk\n",
        "x_pad = zero_pad(x, 2)                                  # (x ,2)'lik bir padding işlemi yaptık\n",
        "\n",
        "print('x.shape=', x.shape)\n",
        "print('x_pad.shape=', x_pad.shape)\n",
        "print('x[1,1]=', x[1,1])\n",
        "print('x_pad[1,1]=', x_pad[1,1])\n",
        "\n",
        "fig, axarr = plt.subplots(1,2)                          #Aynı ekran üzerinde iki veya daha fazla figürü çizdirmek için subplot kullanıyoruz\n",
        "axarr[0].set_title('x')\n",
        "axarr[0].imshow(x[0,:,:,0])\n",
        "axarr[1].set_title('x_pad')\n",
        "axarr[1].imshow(x_pad[0,:,:,0])"
      ],
      "execution_count": 3,
      "outputs": [
        {
          "output_type": "stream",
          "text": [
            "x.shape= (4, 3, 3, 2)\n",
            "x_pad.shape= (4, 7, 7, 2)\n",
            "x[1,1]= [[ 0.90085595 -0.68372786]\n",
            " [-0.12289023 -0.93576943]\n",
            " [-0.26788808  0.53035547]]\n",
            "x_pad[1,1]= [[0. 0.]\n",
            " [0. 0.]\n",
            " [0. 0.]\n",
            " [0. 0.]\n",
            " [0. 0.]\n",
            " [0. 0.]\n",
            " [0. 0.]]\n"
          ],
          "name": "stdout"
        },
        {
          "output_type": "execute_result",
          "data": {
            "text/plain": [
              "<matplotlib.image.AxesImage at 0x7f4d1bcde240>"
            ]
          },
          "metadata": {
            "tags": []
          },
          "execution_count": 3
        },
        {
          "output_type": "display_data",
          "data": {
            "image/png": "[encoded data removed]",
            "text/plain": [
              "<Figure size 432x288 with 2 Axes>"
            ]
          },
          "metadata": {
            "tags": [],
            "needs_background": "light"
          }
        }
      ]
    },
    {
      "cell_type": "code",
      "metadata": {
        "id": "n1g1U3NiJC3V",
        "colab_type": "code",
        "colab": {}
      },
      "source": [
        "\"Evrişim İşlemini Uygulamaya Giriş\"\n",
        "                                                       # Girdiler:'a_slice_prev':giriş matrisi, 'W':ağırlık matrisi, 'b: bias değeri / Çıktı: bir Z değeri \n",
        "def conv_single_step(a_slice_prev, W, b):              # Bu fonksiyonun içinde tek adımlık bir evrişim işlemi gerçekleştireceğiz\n",
        "  s = np.multiply(a_slice_prev, W)                     # a_slice_prev ile W'nin çarpımı\n",
        "  Z = np.sum(s)\n",
        "  Z = float(b) + Z\n",
        "  return Z                                             # Z = x.W + b eşitliğinin hesaplanması uygulanmış oldu"
      ],
      "execution_count": 4,
      "outputs": []
    },
    {
      "cell_type": "code",
      "metadata": {
        "id": "pHX5qKisVnou",
        "colab_type": "code",
        "colab": {
          "base_uri": "https://localhost:8080/",
          "height": 34
        },
        "outputId": "02777374-b6d9-4d64-b6bb-81c0c474db07"
      },
      "source": [
        "\" Bir Yukarıda Yapılan İşlemin İçeriğinin Tanımlanması \"\n",
        "\n",
        "np.random.seed(1)                                      # Değerlerin tutulmasını sağlar\n",
        "a_slice_prev = np.random.randn(4,4,3)                  # a_slice_prev matrisinin boyutu; (4,4,3)\n",
        "W = np.random.randn(4,4,3)                             # Ağırlık matrisinin boyutu; (4,4,3)   [ !!! kanal sayıları eşit(3) ]\n",
        "b = np.random.randn(1,1,1)\n",
        "\n",
        "Z = conv_single_step(a_slice_prev, W, b)\n",
        "print('Z=', Z)                                         # Beklenen Z çıktısı elde edilir"
      ],
      "execution_count": 5,
      "outputs": [
        {
          "output_type": "stream",
          "text": [
            "Z= -6.999089450680221\n"
          ],
          "name": "stdout"
        }
      ]
    },
    {
      "cell_type": "code",
      "metadata": {
        "id": "CMrIkVUvXPLX",
        "colab_type": "code",
        "colab": {}
      },
      "source": [
        "\" Evrişim İşlemi \"\n",
        "\n",
        "def conv_forward(A_prev, W, b, hparameters):\n",
        "  (m, n_H_prev, n_W_prev, n_C_prev) = A_prev.shape      # Sırasıyla önceki matrisin yüksekliği(n_H_prev), ağırlığı(n_W_prev) ve kanal sayısı(n_C_prev)\n",
        "  (f, f, n_C_prev, n_C) = W.shape                       # W için matrisin tanımlanması; Yukarıdaki ile kanal sayısı aynı(n_C)\n",
        "\n",
        "  stride = hparameters['stride']                        # hparametreleri tanımladık(stride  ve padding)\n",
        "  pad = hparameters['pad']\n",
        "\n",
        "  n_H = int(((n_H_prev-f+2*pad)/stride)+1)              # Evrişimin çıkış boyutunun tanımlanması\n",
        "  n_W = int(((n_W_prev-f+2*pad)/stride)+1) \n",
        "\n",
        "  Z = np.zeros([m, n_H, n_W, n_C])                      # 0 başlangıç koşulları ile matrisin oluşturulması\n",
        "  A_prev_pad = zero_pad(A_prev, pad)\n",
        "\n",
        "  \"A_prev matrisine pixel ekleme işlemi yapacağız. Bunun için for döngüsü tanımlayıp, eğitim örneklerİ üzerinde döngü yapmış olacağız.\"\n",
        "\n",
        "  for i in range(m):\n",
        "    a_prev_pad = A_prev_pad[i]\n",
        "    for h in range(n_H):\n",
        "      for w in range(n_W):\n",
        "        for c in range(n_C):\n",
        "\n",
        "          vert_start = h*stride                                                 # Köşe bulma işlemlerinin yapılması\n",
        "          vert_end = vert_start + f\n",
        "          horiz_start = w*stride\n",
        "          horiz_end = horiz_start + f\n",
        "\n",
        "          a_slice_prev = a_prev_pad[vert_start:vert_end, horiz_start:horiz_end]\n",
        "\n",
        "          Z[i, h, w, c] = conv_single_step(a_slice_prev, W[...,c], b[...,c])     # Evrişim işleminin gerçekleştirildiği kısım\n",
        "\n",
        "\n",
        "  assert (Z.shape == (m, n_H, n_W, n_C))                                         # Çıkış değerinin boyutunun doğruluğunu kontrol etme\n",
        "\n",
        "  cache = (A_prev, W, b, hparameters)                                            # Geriye yayılım işleminde gerekeceği için değerlerin saklanması\n",
        "\n",
        "  return Z, cache                                                                              "
      ],
      "execution_count": 34,
      "outputs": []
    },
    {
      "cell_type": "code",
      "metadata": {
        "id": "6L9GGhxthICE",
        "colab_type": "code",
        "colab": {
          "base_uri": "https://localhost:8080/",
          "height": 87
        },
        "outputId": "3f2f68e3-3a81-4330-c9c7-11c4b0faebe1"
      },
      "source": [
        "\" Bir Yukarıda Yapılan İşlemin İçeriğinin Tanımlanması \"\n",
        "\n",
        "np.random.seed(1)                                                                \n",
        "A_prev = np.random.randn(10, 4, 4, 3)\n",
        "W = np.random.randn(2, 2, 3, 8)\n",
        "b = np.random.randn(1, 1, 1, 8)\n",
        "\n",
        "hparameters = {\"pad\": 2, \"stride\": 2}\n",
        "\n",
        "Z, cache_conv = conv_forward(A_prev, W, b, hparameters)\n",
        "\n",
        "print(\"Z'nin ortalama =\", np.mean(Z))\n",
        "print(\"Z[3, 2, 1] =\", Z[3, 2, 1])\n",
        "print(\"cache_conv[0][1][2][3] =\", cache_conv[0][1][2][3])"
      ],
      "execution_count": 36,
      "outputs": [
        {
          "output_type": "stream",
          "text": [
            "Z'nin ortalama = 0.048995203528855794\n",
            "Z[3, 2, 1] = [-0.61490741 -6.7439236  -2.55153897  1.75698377  3.56208902  0.53036437\n",
            "  5.18531798  8.75898442]\n",
            "cache_conv[0][1][2][3] = [-0.20075807  0.18656139  0.41005165]\n"
          ],
          "name": "stdout"
        }
      ]
    },
    {
      "cell_type": "code",
      "metadata": {
        "id": "Iv28vRLHiEXi",
        "colab_type": "code",
        "colab": {}
      },
      "source": [
        "\" İleri Yönde Ortaklama İşlemi (Pool Forward) \"\n",
        "\n",
        "def pool_forward(A_prev, hparameters, mode = 'max'):\n",
        "  (m, n_H_prev, n_W_prev, n_C_prev) = A_prev.shape\n",
        "\n",
        "  f = hparameters[\"f\"]\n",
        "  stride = hparameters[\"stride\"]\n",
        "\n",
        "  n_H = int(1 + (n_H_prev - f)/ stride)     \n",
        "  n_W = int(1 + (n_W_prev - f)/ stride)\n",
        "  n_C = n_C_prev\n",
        "\n",
        "  A = np.zeros([m, n_H, n_W, n_C])\n",
        "\n",
        "  for i in range(m):\n",
        "    for h in range(n_H):\n",
        "      for w in range(n_W):\n",
        "        for c in range(n_C):\n",
        "\n",
        "          vert_start = h*stride\n",
        "          vert_end = vert_start + f\n",
        "          horiz_start = w*stride\n",
        "          horiz_end = horiz_start + f\n",
        "\n",
        "          a_prev_slice = A_prev[i, vert_start:vert_end, horiz_start:horiz_end, c]\n",
        "\n",
        "          if mode == 'max':\n",
        "            A[i, h, w, c] = np.max(a_prev_slice)\n",
        "          elif mode == 'average':\n",
        "            A[i, h, w, c] = np.mean(a_prev_slice)\n",
        "\n",
        "  cache = (A_prev, hparameters)\n",
        "  assert (A.shape == (m, n_H, n_W, n_C))\n",
        "  return A, cache"
      ],
      "execution_count": 37,
      "outputs": []
    },
    {
      "cell_type": "code",
      "metadata": {
        "id": "pbtwCP6yNVsA",
        "colab_type": "code",
        "colab": {
          "base_uri": "https://localhost:8080/",
          "height": 194
        },
        "outputId": "7d05a840-4a3b-4dec-94ad-3ab8198409b6"
      },
      "source": [
        "\" Bir Yukarıda Yapılan İşlemin Ekrana Yazdırılması \"\n",
        "\n",
        "np.random.seed(1)\n",
        "\n",
        "A_prev = np.random.randn(2, 4, 4, 3)\n",
        "hparameters = {'stride':2,'f':3}\n",
        "\n",
        "A, cache = pool_forward(A_prev, hparameters)                             # Max ortaklama için sonuca bakıyoruz\n",
        "print('mod = max')\n",
        "print('A=',A)\n",
        "\n",
        "A, cache = pool_forward(A_prev, hparameters, mode = 'average')           # Ortalama ortaklama için sonuca bakıyoruz\n",
        "print('mod = average')\n",
        "print('A=',A)"
      ],
      "execution_count": 39,
      "outputs": [
        {
          "output_type": "stream",
          "text": [
            "mod = max\n",
            "A= [[[[1.74481176 0.86540763 1.13376944]]]\n",
            "\n",
            "\n",
            " [[[1.13162939 1.51981682 2.18557541]]]]\n",
            "mod = average\n",
            "A= [[[[ 0.02105773 -0.20328806 -0.40389855]]]\n",
            "\n",
            "\n",
            " [[[-0.22154621  0.51716526  0.48155844]]]]\n"
          ],
          "name": "stdout"
        }
      ]
    },
    {
      "cell_type": "code",
      "metadata": {
        "id": "3b9eu2KbWnDP",
        "colab_type": "code",
        "colab": {}
      },
      "source": [
        "\" Geriye Yayılım Aşaması (Backpropagation) \"\n",
        "\n",
        "def conv_backward(dZ, cache):\n",
        "  (A_prev, W, b, hparameters) = cache\n",
        "  (m, n_H_prev, n_W_prev, n_C_prev) = A_prev.shape\n",
        "  (f, f, n_C_prev, n_C) = W.shape\n",
        "\n",
        "  stride = hparameters[\"stride\"]\n",
        "  pad = hparameters[\"pad\"]\n",
        "\n",
        "  (m, n_H, n_W, n_C) = dZ.shape\n",
        "\n",
        "  dA_prev = np.zeros((m, n_H_prev, n_W_prev, n_C_prev))\n",
        "  dW = np.zeros((f, f, n_C_prev, n_C))\n",
        "  db = np.zeros((1, 1, 1, n_C))\n",
        "\n",
        "  A_prev_pad = zero_pad(A_prev, pad)\n",
        "  dA_prev_pad = zero_pad(dA_prev, pad)\n",
        "\n",
        "  for i in range(m):\n",
        "    a_prev_pad = A_prev[i]\n",
        "    da_prev_pad = dA_prev_pad[i]\n",
        "    for h in range(n_H):\n",
        "      for w in range(n_W):\n",
        "        for c in range(n_C):\n",
        "\n",
        "          vert_start = h                                            \n",
        "          vert_end = vert_start + f\n",
        "          horiz_start = w\n",
        "          horiz_end = horiz_start + f\n",
        "\n",
        "          a_slice = a_prev_pad[vert_start:vert_end, horiz_start:horiz_end, :]\n",
        "\n",
        "          da_prev_pad[vert_start:vert_end, horiz_start:horiz_end, :] += W[:,:,:,c] * dZ[i, h, w, c]\n",
        "\n",
        "          dW[:, :, :, c] += a_slice * dZ[i, h, w, c]\n",
        "          db[:, :, :, c] += dZ[i, h, w, c]\n",
        "\n",
        "    dA_prev[i, :, :, :] = da_prev_pad[pad:-pad, pad:-pad, :]\n",
        "\n",
        "  assert (dA_prev.shape == (m, n_H_prev, n_W_prev, n_C_prev))\n",
        "  return dA_prev, dW, db\n",
        "\n"
      ],
      "execution_count": 54,
      "outputs": []
    },
    {
      "cell_type": "code",
      "metadata": {
        "id": "suB4UPmZJugW",
        "colab_type": "code",
        "colab": {
          "base_uri": "https://localhost:8080/",
          "height": 70
        },
        "outputId": "9c7e9e54-0bc9-4454-c2a2-d765fd73422b"
      },
      "source": [
        "\" Bir Yukarıda Yapılan İşlemin Ekrana Yazdırılması \"\n",
        "\n",
        "np.random.seed(1)\n",
        "dA, dW, db = conv_backward(Z, cache_conv)\n",
        "\n",
        "print(\"dA ortalama=\", np.mean(dA))\n",
        "print(\"dW ortalama=\", np.mean(dW))\n",
        "print(\"db ortalama=\", np.mean(db))\n"
      ],
      "execution_count": 55,
      "outputs": [
        {
          "output_type": "stream",
          "text": [
            "dA ortalama= 0.6347704472654743\n",
            "dW ortalama= 2.4767500956259423\n",
            "db ortalama= 7.839232564616838\n"
          ],
          "name": "stdout"
        }
      ]
    },
    {
      "cell_type": "code",
      "metadata": {
        "id": "0bGoGM7ZUuP6",
        "colab_type": "code",
        "colab": {}
      },
      "source": [
        "\" Maske/Filtre Tanımlama \"\n",
        "\n",
        "def create_mask_from_window(x):\n",
        "  mask = x == np.max(x)               # Hata geriye yayılım yaparken max değer üzerinden yayılım yapar. Bu sebeple max değer aldık. (Burada çıkış değerine max değer etki ediyor)\n",
        "  return mask\n"
      ],
      "execution_count": 56,
      "outputs": []
    },
    {
      "cell_type": "code",
      "metadata": {
        "id": "Sc42bFUvVg5Z",
        "colab_type": "code",
        "colab": {
          "base_uri": "https://localhost:8080/",
          "height": 87
        },
        "outputId": "6be18a31-8397-4d65-a171-622703a53d66"
      },
      "source": [
        "\" Bir Yukarıda Yapılan İşlemin İçeriğinin Tanımlanması \"\n",
        "\n",
        "np.random.seed(1)\n",
        "x = np.random.randn(2, 3)\n",
        "mask = create_mask_from_window(x)\n",
        "\n",
        "print(\"x =\", x)\n",
        "print(\"maske =\", mask)"
      ],
      "execution_count": 57,
      "outputs": [
        {
          "output_type": "stream",
          "text": [
            "x = [[ 1.62434536 -0.61175641 -0.52817175]\n",
            " [-1.07296862  0.86540763 -2.3015387 ]]\n",
            "maske = [[ True False False]\n",
            " [False False False]]\n"
          ],
          "name": "stdout"
        }
      ]
    },
    {
      "cell_type": "code",
      "metadata": {
        "id": "c9RE8incofOn",
        "colab_type": "code",
        "colab": {}
      },
      "source": [
        "def distribute_value(dZ, shape):\n",
        "  (n_H, n_W) = shape\n",
        "  average = dZ / (n_H * n_W)\n",
        "  a = np.ones(shape) * average\n",
        "  return a"
      ],
      "execution_count": 61,
      "outputs": []
    },
    {
      "cell_type": "code",
      "metadata": {
        "id": "rtTxeqi6pgRn",
        "colab_type": "code",
        "colab": {
          "base_uri": "https://localhost:8080/",
          "height": 52
        },
        "outputId": "035afc00-e402-4d3d-fe96-fc33f7318df5"
      },
      "source": [
        "a = distribute_value(2, (2,2))\n",
        "print(\"dagıtılmıs deger =\", a)"
      ],
      "execution_count": 62,
      "outputs": [
        {
          "output_type": "stream",
          "text": [
            "dagıtılmıs deger = [[0.5 0.5]\n",
            " [0.5 0.5]]\n"
          ],
          "name": "stdout"
        }
      ]
    },
    {
      "cell_type": "code",
      "metadata": {
        "id": "7bhZUACKFMTU",
        "colab_type": "code",
        "colab": {}
      },
      "source": [
        "\" Geriye Yayılım Sürecinde Gerçekleşen Ortaklama İşlemi \"\n",
        "\n",
        "def pool_backward(dA, cache, mode = \"max\"):\n",
        "\n",
        "  (A_prev, hparameters) = cache\n",
        "\n",
        "  stride = hparameters[\"stride\"]\n",
        "  f = hparameters[\"f\"]\n",
        "\n",
        "  m, n_H_prev, n_W_prev, n_C_prev = A_prev.shape\n",
        "  m, n_H, n_W, n_C = dA.shape\n",
        "  dA_prev = np.zeros(A_prev.shape)\n",
        "\n",
        "  for i in range(m):\n",
        "   a_prev = A_prev[i]\n",
        "   for h in range(n_H):\n",
        "    for w in range(n_W):\n",
        "      for c in range(n_C):\n",
        "\n",
        "          vert_start = h\n",
        "          vert_end = vert_start + f\n",
        "          horiz_start = w\n",
        "          horiz_end = horiz_start + f\n",
        "\n",
        "          if mode == \"max\":                                                               # Geriye yayılım algoritmasının hangi modda devam edeceğini belirleme\n",
        "            a_prev_slice = a_prev[vert_start:vert_end, horiz_start:horiz_end, c] \n",
        "            mask = create_mask_from_window(a_prev_slice)\n",
        "            dA_prev[i, vert_start:vert_end, horiz_start:horiz_end, c] += np.multiply(mask, dA[i, h, w, c]) \n",
        "          elif mode == \"average\":\n",
        "            da = dA[i, h, w, c]\n",
        "            shape = (f, f)\n",
        "            dA_prev[i, vert_start:vert_end, horiz_start:horiz_end, c] += distribute_value(da, shape)\n",
        "\n",
        "  assert (dA_prev.shape == A_prev.shape)\n",
        "  return dA_prev             \n",
        "\n"
      ],
      "execution_count": 68,
      "outputs": []
    },
    {
      "cell_type": "code",
      "metadata": {
        "id": "gGkukDO3NlRV",
        "colab_type": "code",
        "colab": {
          "base_uri": "https://localhost:8080/",
          "height": 194
        },
        "outputId": "1c44de4b-c614-4cd4-a7b7-5e5d722198b0"
      },
      "source": [
        "\"Geriye Yayılım ile Güncellenen Ağırlıklar ve Diğer Parametreler\"\n",
        "\n",
        "np.random.seed(1)\n",
        "\n",
        "A_prev = np.random.randn(5, 5, 3, 2)\n",
        "hparameters = {\"stride\": 1, \"f\":2}\n",
        "A, cache = pool_forward(A_prev, hparameters)\n",
        "dA = np.random.randn(5, 4, 2, 2)\n",
        "\n",
        "dA_prev = pool_backward(dA, cache, mode = \"max\")\n",
        "\n",
        "print(\"mod = max\")\n",
        "print(\"dA ortalaması=\", np.max(dA))\n",
        "print(\"dA_prev[1, 1]\", dA_prev[1, 1])\n",
        "\n",
        "A_prev = pool_backward(dA, cache, mode = \"average\")\n",
        "\n",
        "print(\"mod = average\")\n",
        "print(\"dA ortalaması=\", np.mean(dA))\n",
        "print(\"dA_prev[1, 1]\", dA_prev[1, 1])\n",
        "\n"
      ],
      "execution_count": 69,
      "outputs": [
        {
          "output_type": "stream",
          "text": [
            "mod = max\n",
            "dA ortalaması= 2.528325706806398\n",
            "dA_prev[1, 1] [[ 0.          0.        ]\n",
            " [ 5.05844394 -1.68282702]\n",
            " [ 0.          0.        ]]\n",
            "mod = average\n",
            "dA ortalaması= 0.14571390272918056\n",
            "dA_prev[1, 1] [[ 0.          0.        ]\n",
            " [ 5.05844394 -1.68282702]\n",
            " [ 0.          0.        ]]\n"
          ],
          "name": "stdout"
        }
      ]
    },
    {
      "cell_type": "markdown",
      "metadata": {
        "id": "ui61w-Azrz1X",
        "colab_type": "text"
      },
      "source": [
        "# Referanslar\n",
        "1. Merve Ayyüce Kızrak, Udemy_DerinOgrenmeyeGiris Repository, GitHub\n",
        "\n"
      ]
    },
    {
      "cell_type": "code",
      "metadata": {
        "id": "aSVEp3_mtvwQ",
        "colab_type": "code",
        "colab": {}
      },
      "source": [
        ""
      ],
      "execution_count": null,
      "outputs": []
    }
  ]
}
